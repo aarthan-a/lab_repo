{
 "cells": [
  {
   "cell_type": "code",
   "execution_count": 13,
   "id": "261bcdde",
   "metadata": {},
   "outputs": [
    {
     "name": "stdout",
     "output_type": "stream",
     "text": [
      "['Aarthan', 'Vijay', 'Rio', 'Aishwarya', 'Gayathri']\n"
     ]
    }
   ],
   "source": [
    "name=['Aarthan','Vijay','Rio','Aishwarya','Gayathri']\n",
    "print(name)"
   ]
  },
  {
   "cell_type": "code",
   "execution_count": 14,
   "id": "e0eff105",
   "metadata": {},
   "outputs": [
    {
     "name": "stdout",
     "output_type": "stream",
     "text": [
      "['Trainee', 'SDE1', 'SDE2', 'CTO', 'CEO']\n",
      "[24000, 30000, 52000, 60000, 80000]\n",
      "[100, 101, 102, 103, 104]\n"
     ]
    }
   ],
   "source": [
    "position=['Trainee','SDE1','SDE2','CTO','CEO']\n",
    "salary=[24000,30000,52000,60000,80000]\n",
    "emp_id=[100,101,102,103,104]\n",
    "print(position)\n",
    "print(salary)\n",
    "print(emp_id)"
   ]
  },
  {
   "cell_type": "code",
   "execution_count": 15,
   "id": "14907115",
   "metadata": {},
   "outputs": [
    {
     "name": "stdout",
     "output_type": "stream",
     "text": [
      "SDE2\n"
     ]
    }
   ],
   "source": [
    "print(position[2])"
   ]
  },
  {
   "cell_type": "code",
   "execution_count": 17,
   "id": "88ade59e",
   "metadata": {},
   "outputs": [],
   "source": [
    "bonus=[0,0,0,0,0]\n",
    "gross=[0,0,0,0,0]\n",
    "net=[0,0,0,0,0]"
   ]
  },
  {
   "cell_type": "code",
   "execution_count": 19,
   "id": "03d94030",
   "metadata": {},
   "outputs": [],
   "source": [
    "i=100\n",
    "for i in range(5):\n",
    "    if(salary[i]<24000):\n",
    "        bonus[i]=(salary[i]*10.5)/100\n",
    "    elif(salary[i]>25000 & salary[i]<50000):\n",
    "        bonus[i]=(salary[i]*11.5)/100\n",
    "    elif(salary[i]>55000):\n",
    "        bonus[i]=(salary[i]*12.5)/100"
   ]
  },
  {
   "cell_type": "code",
   "execution_count": 20,
   "id": "2ff25c17",
   "metadata": {},
   "outputs": [
    {
     "name": "stdout",
     "output_type": "stream",
     "text": [
      "[2760.0, 3450.0, 5980.0, 6900.0, 9200.0]\n"
     ]
    }
   ],
   "source": [
    "print(bonus)"
   ]
  },
  {
   "cell_type": "code",
   "execution_count": 22,
   "id": "be3a6709",
   "metadata": {},
   "outputs": [
    {
     "name": "stdout",
     "output_type": "stream",
     "text": [
      "[26760.0, 33450.0, 57980.0, 66900.0, 89200.0]\n"
     ]
    }
   ],
   "source": [
    "i=100\n",
    "for i in range(5):\n",
    "    gross[i]=salary[i]+bonus[i]\n",
    "\n",
    "print(gross)"
   ]
  },
  {
   "cell_type": "code",
   "execution_count": 24,
   "id": "510ead17",
   "metadata": {},
   "outputs": [],
   "source": [
    "tax=[0,0,0,0,0]\n",
    "benefit=[0,0,0,0,0]"
   ]
  },
  {
   "cell_type": "code",
   "execution_count": 31,
   "id": "73c08168",
   "metadata": {},
   "outputs": [],
   "source": [
    "deduct=[0,0,0,0,0]"
   ]
  },
  {
   "cell_type": "code",
   "execution_count": 30,
   "id": "6a476c13",
   "metadata": {},
   "outputs": [
    {
     "name": "stdout",
     "output_type": "stream",
     "text": [
      "[4147.8, 5184.75, 8986.9, 10369.5, 13826.0]\n",
      "[1739.4, 2174.25, 3768.7, 4348.5, 5798.0]\n"
     ]
    }
   ],
   "source": [
    "i=100\n",
    "for i in range(5):\n",
    "    tax[i]=(gross[i]*15.5)/100\n",
    "    benefit[i]=(gross[i]*6.5)/100\n",
    "    \n",
    "print(tax)\n",
    "print(benefit)"
   ]
  },
  {
   "cell_type": "code",
   "execution_count": 32,
   "id": "fe7c6ed2",
   "metadata": {},
   "outputs": [
    {
     "name": "stdout",
     "output_type": "stream",
     "text": [
      "[0, 0, 0, 0, 0]\n"
     ]
    }
   ],
   "source": [
    "print(deduct)"
   ]
  },
  {
   "cell_type": "code",
   "execution_count": 33,
   "id": "7439aa19",
   "metadata": {},
   "outputs": [
    {
     "name": "stdout",
     "output_type": "stream",
     "text": [
      "[5887.200000000001, 7359.0, 12755.599999999999, 14718.0, 19624.0]\n"
     ]
    }
   ],
   "source": [
    "for i in range(5):\n",
    "    deduct[i]=tax[i]+benefit[i]\n",
    "\n",
    "print(deduct)"
   ]
  },
  {
   "cell_type": "code",
   "execution_count": 34,
   "id": "64b94b6e",
   "metadata": {},
   "outputs": [],
   "source": [
    "net=[0,0,0,0,0]"
   ]
  },
  {
   "cell_type": "code",
   "execution_count": 35,
   "id": "693a6bf5",
   "metadata": {},
   "outputs": [
    {
     "name": "stdout",
     "output_type": "stream",
     "text": [
      "[20872.8, 26091.0, 45224.4, 52182.0, 69576.0]\n"
     ]
    }
   ],
   "source": [
    "for i in range(5):\n",
    "    net[i]=gross[i]-deduct[i]\n",
    "\n",
    "print(net)"
   ]
  },
  {
   "cell_type": "code",
   "execution_count": 36,
   "id": "552fb602",
   "metadata": {},
   "outputs": [],
   "source": [
    "company='Google'\n",
    "dop='2023-10-1'"
   ]
  },
  {
   "cell_type": "code",
   "execution_count": 43,
   "id": "883050ec",
   "metadata": {},
   "outputs": [
    {
     "name": "stdout",
     "output_type": "stream",
     "text": [
      "Company Name: Google\n",
      "Date of Pay Stub: 2023-10-1\n",
      "Employee: Aarthan\n",
      "Position: Trainee\n",
      "Salary:$ 24000\n",
      "Bonus:$ 2760.0\n",
      "Gross Annual Income:$ 26760.0\n",
      "Total Deductibles:$ 5887.200000000001\n",
      "Deductibles(Taxes):$ 4147.8\n",
      "Deductibles(Benefits):$ 1739.4\n",
      "Net Annual Income:$ 20872.8\n",
      "\n",
      "\n",
      "\n",
      "Company Name: Google\n",
      "Date of Pay Stub: 2023-10-1\n",
      "Employee: Vijay\n",
      "Position: SDE1\n",
      "Salary:$ 30000\n",
      "Bonus:$ 3450.0\n",
      "Gross Annual Income:$ 33450.0\n",
      "Total Deductibles:$ 7359.0\n",
      "Deductibles(Taxes):$ 5184.75\n",
      "Deductibles(Benefits):$ 2174.25\n",
      "Net Annual Income:$ 26091.0\n",
      "\n",
      "\n",
      "\n",
      "Company Name: Google\n",
      "Date of Pay Stub: 2023-10-1\n",
      "Employee: Rio\n",
      "Position: SDE2\n",
      "Salary:$ 52000\n",
      "Bonus:$ 5980.0\n",
      "Gross Annual Income:$ 57980.0\n",
      "Total Deductibles:$ 12755.599999999999\n",
      "Deductibles(Taxes):$ 8986.9\n",
      "Deductibles(Benefits):$ 3768.7\n",
      "Net Annual Income:$ 45224.4\n",
      "\n",
      "\n",
      "\n",
      "Company Name: Google\n",
      "Date of Pay Stub: 2023-10-1\n",
      "Employee: Aishwarya\n",
      "Position: CTO\n",
      "Salary:$ 60000\n",
      "Bonus:$ 6900.0\n",
      "Gross Annual Income:$ 66900.0\n",
      "Total Deductibles:$ 14718.0\n",
      "Deductibles(Taxes):$ 10369.5\n",
      "Deductibles(Benefits):$ 4348.5\n",
      "Net Annual Income:$ 52182.0\n",
      "\n",
      "\n",
      "\n",
      "Company Name: Google\n",
      "Date of Pay Stub: 2023-10-1\n",
      "Employee: Gayathri\n",
      "Position: CEO\n",
      "Salary:$ 80000\n",
      "Bonus:$ 9200.0\n",
      "Gross Annual Income:$ 89200.0\n",
      "Total Deductibles:$ 19624.0\n",
      "Deductibles(Taxes):$ 13826.0\n",
      "Deductibles(Benefits):$ 5798.0\n",
      "Net Annual Income:$ 69576.0\n",
      "\n",
      "\n",
      "\n"
     ]
    }
   ],
   "source": [
    "for i in range(5):\n",
    "    print(\"Company Name:\",company)\n",
    "    print(\"Date of Pay Stub:\",dop)\n",
    "    print(\"Employee:\",name[i])\n",
    "    print(\"Position:\",position[i])\n",
    "    print(\"Salary:$\",salary[i])\n",
    "    print(\"Bonus:$\",bonus[i])\n",
    "    print(\"Gross Annual Income:$\",gross[i])\n",
    "    print(\"Total Deductibles:$\",deduct[i])\n",
    "    print(\"Deductibles(Taxes):$\",tax[i])\n",
    "    print(\"Deductibles(Benefits):$\",benefit[i])\n",
    "    print(\"Net Annual Income:$\",net[i])\n",
    "    print(\"\\n\\n\")"
   ]
  },
  {
   "cell_type": "code",
   "execution_count": null,
   "id": "8d08eb8e",
   "metadata": {},
   "outputs": [],
   "source": []
  }
 ],
 "metadata": {
  "kernelspec": {
   "display_name": "Python 3 (ipykernel)",
   "language": "python",
   "name": "python3"
  },
  "language_info": {
   "codemirror_mode": {
    "name": "ipython",
    "version": 3
   },
   "file_extension": ".py",
   "mimetype": "text/x-python",
   "name": "python",
   "nbconvert_exporter": "python",
   "pygments_lexer": "ipython3",
   "version": "3.11.4"
  }
 },
 "nbformat": 4,
 "nbformat_minor": 5
}
